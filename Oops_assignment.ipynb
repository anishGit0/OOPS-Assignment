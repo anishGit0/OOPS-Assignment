{
  "nbformat": 4,
  "nbformat_minor": 0,
  "metadata": {
    "colab": {
      "provenance": []
    },
    "kernelspec": {
      "name": "python3",
      "display_name": "Python 3"
    },
    "language_info": {
      "name": "python"
    }
  },
  "cells": [
    {
      "cell_type": "markdown",
      "source": [
        "**Practical questions answers**"
      ],
      "metadata": {
        "id": "5NUJLNZNGq3Q"
      }
    },
    {
      "cell_type": "code",
      "source": [
        "# 1. Create a parent class Animal with a method speak() that prints a generic message. Create a child class Dog that overrides the speak() method to print \"Bark!\"\n",
        "\n",
        "class Animal:\n",
        "  def speak(self):\n",
        "    print(\"Generic animal sound\")\n",
        "\n",
        "class Dog(Animal):\n",
        "  def speak(self):\n",
        "    print(\"Bark!\")\n",
        "\n",
        "animal = Animal()\n",
        "dog = Dog()\n",
        "\n",
        "animal.speak()\n",
        "dog.speak()"
      ],
      "metadata": {
        "id": "qV7OXC9xGxmb"
      },
      "execution_count": null,
      "outputs": []
    },
    {
      "cell_type": "code",
      "source": [
        "# 2.  Write a program to create an abstract class Shape with a method area(). Derive classes Circle and Rectangle from it and implement the area() method in both\n",
        "\n",
        "from abc import ABC, abstractmethod\n",
        "import math\n",
        "\n",
        "class Shape(ABC):  # Abstract base class\n",
        "    @abstractmethod\n",
        "    def area(self):\n",
        "        pass\n",
        "\n",
        "class Circle(Shape):\n",
        "    def __init__(self, radius):\n",
        "        self.radius = radius\n",
        "\n",
        "    def area(self):\n",
        "        return math.pi * self.radius**2\n",
        "\n",
        "class Rectangle(Shape):\n",
        "    def __init__(self, length, width):\n",
        "        self.length = length\n",
        "        self.width = width\n",
        "\n",
        "    def area(self):\n",
        "        return self.length * self.width\n",
        "\n",
        "# Example usage\n",
        "circle = Circle(5)\n",
        "rectangle = Rectangle(4, 6)\n",
        "\n",
        "print(f\"Circle area: {circle.area()}\")\n",
        "print(f\"Rectangle area: {rectangle.area()}\")"
      ],
      "metadata": {
        "id": "cIDoc7i7HUf1"
      },
      "execution_count": null,
      "outputs": []
    },
    {
      "cell_type": "code",
      "source": [
        "# 3. Implement a multi-level inheritance scenario where a class Vehicle has an attribute type. Derive a class Car and further derive a class ElectricCar that adds a battery attribute.\n",
        "\n",
        "class Vehicle:\n",
        "    def __init__(self, type):\n",
        "        self.type = type\n",
        "\n",
        "class Car(Vehicle):\n",
        "    def __init__(self, type, model):\n",
        "        super().__init__(type)\n",
        "        self.model = model\n",
        "\n",
        "class ElectricCar(Car):\n",
        "    def __init__(self, type, model, battery):\n",
        "        super().__init__(type, model)\n",
        "        self.battery = battery\n",
        "\n",
        "# Example usage\n",
        "my_electric_car = ElectricCar(\"Electric\", \"Tesla Model S\", \"100kWh\")\n",
        "\n",
        "print(f\"Type: {my_electric_car.type}\")  # Output: Type: Electric\n",
        "print(f\"Model: {my_electric_car.model}\")  # Output: Model: Tesla Model S\n",
        "print(f\"Battery: {my_electric_car.battery}\")  # Output: Battery: 100kWh"
      ],
      "metadata": {
        "id": "eyt3K3osHqOT"
      },
      "execution_count": null,
      "outputs": []
    },
    {
      "cell_type": "code",
      "source": [
        "# 4. Implement a multi-level inheritance scenario where a class Vehicle has an attribute type. Derive a class Car and further derive a class ElectricCar that adds a battery attribute.\n",
        "\n",
        "class Vehicle:\n",
        "    def __init__(self, type):\n",
        "        self.type = type\n",
        "\n",
        "class Car(Vehicle):\n",
        "    def __init__(self, type, model):\n",
        "        super().__init__(type)\n",
        "        self.model = model\n",
        "\n",
        "class ElectricCar(Car):\n",
        "    def __init__(self, type, model, battery):\n",
        "        super().__init__(type, model)\n",
        "        self.battery = battery\n",
        "\n",
        "# Example usage\n",
        "my_electric_car = ElectricCar(\"Electric\", \"Tesla Model S\", \"100kWh\")\n",
        "\n",
        "print(f\"Type: {my_electric_car.type}\")\n",
        "print(f\"Model: {my_electric_car.model}\")\n",
        "print(f\"Battery: {my_electric_car.battery}\")"
      ],
      "metadata": {
        "id": "gFTHXSQsH6_x"
      },
      "execution_count": null,
      "outputs": []
    },
    {
      "cell_type": "code",
      "source": [
        "# 5. Write a program to demonstrate encapsulation by creating a class BankAccount with private attributes balance and methods to deposit, withdraw, and check balance.\n",
        "\n",
        "class BankAccount:\n",
        "    def __init__(self, initial_balance=0):\n",
        "        self.__balance = initial_balance  # Private attribute\n",
        "\n",
        "    def deposit(self, amount):\n",
        "        if amount > 0:\n",
        "            self.__balance += amount\n",
        "            print(f\"Deposited: ${amount:.2f}\")\n",
        "        else:\n",
        "            print(\"Invalid deposit amount.\")\n",
        "\n",
        "    def withdraw(self, amount):\n",
        "        if 0 < amount <= self.__balance:\n",
        "            self.__balance -= amount\n",
        "            print(f\"Withdrew: ${amount:.2f}\")\n",
        "        else:\n",
        "            print(\"Insufficient funds or invalid withdrawal amount.\")\n",
        "\n",
        "    def check_balance(self):\n",
        "        print(f\"Current balance: ${self.__balance:.2f}\")\n",
        "\n",
        "# Example usage\n",
        "account = BankAccount(1000)\n",
        "account.deposit(500)\n",
        "account.withdraw(200)\n",
        "account.check_balance()"
      ],
      "metadata": {
        "id": "Qp9BqAjXILVB"
      },
      "execution_count": null,
      "outputs": []
    },
    {
      "cell_type": "code",
      "source": [
        "# 6. Demonstrate runtime polymorphism using a method play() in a base class Instrument. Derive classes Guitar and Piano that implement their own version of play().\n",
        "\n",
        "class Instrument:\n",
        "    def play(self):\n",
        "        print(\"Playing a generic instrument sound\")\n",
        "\n",
        "class Guitar(Instrument):\n",
        "    def play(self):\n",
        "        print(\"Strumming the guitar\")\n",
        "\n",
        "class Piano(Instrument):\n",
        "    def play(self):\n",
        "        print(\"Playing the piano keys\")\n",
        "\n",
        "# Create instances of the classes\n",
        "instrument = Instrument()\n",
        "guitar = Guitar()\n",
        "piano = Piano()\n",
        "\n",
        "instrument.play()  # Output: Playing a generic instrument sound\n",
        "guitar.play()  # Output: Strumming the guitar\n",
        "piano.play()  # Output: Playing the piano keys"
      ],
      "metadata": {
        "id": "h0icPjaIIhH5"
      },
      "execution_count": null,
      "outputs": []
    },
    {
      "cell_type": "code",
      "source": [
        "# 7. Create a class MathOperations with a class method add_numbers() to add two numbers and a static method subtract_numbers() to subtract two numbers.\n",
        "\n",
        "class MathOperations:\n",
        "    @classmethod\n",
        "    def add_numbers(cls, num1, num2):\n",
        "        return num1 + num2\n",
        "\n",
        "    @staticmethod\n",
        "    def subtract_numbers(num1, num2):\n",
        "        return num1 - num2\n",
        "\n",
        "# Example usage\n",
        "result1 = MathOperations.add_numbers(5, 3)  # Using class method\n",
        "result2 = MathOperations.subtract_numbers(10, 4)  # Using static method\n",
        "\n",
        "print(f\"Addition result: {result1}\")  # Output: Addition result: 8\n",
        "print(f\"Subtraction result: {result2}\")  # Output: Subtraction result: 6"
      ],
      "metadata": {
        "id": "PLeLaH0QIwAH"
      },
      "execution_count": null,
      "outputs": []
    },
    {
      "cell_type": "code",
      "source": [
        "# 8. Implement a class Person with a class method to count the total number of persons created.\n",
        "\n",
        "class Person:\n",
        "    count = 0\n",
        "\n",
        "    def __init__(self, name):\n",
        "        self.name = name\n",
        "        Person.count += 1\n",
        "\n",
        "    @classmethod\n",
        "    def get_total_persons(cls):\n",
        "        return cls.count\n",
        "\n",
        "# Example usage\n",
        "person1 = Person(\"Alice\")\n",
        "person2 = Person(\"Bob\")\n",
        "person3 = Person(\"Charlie\")\n",
        "\n",
        "total_persons = Person.get_total_persons()\n",
        "print(f\"Total persons created: {total_persons}\")  # Output: Total persons created: 3"
      ],
      "metadata": {
        "id": "l76nqrz6I_CZ"
      },
      "execution_count": null,
      "outputs": []
    },
    {
      "cell_type": "code",
      "source": [
        "# 9. Write a class Fraction with attributes numerator and denominator. Override the str method to display the fraction as \"numerator/denominator\".\n",
        "\n",
        "class Fraction:\n",
        "    def __init__(self, numerator, denominator):\n",
        "        self.numerator = numerator\n",
        "        self.denominator = denominator\n",
        "\n",
        "    def __str__(self):\n",
        "        return f\"{self.numerator}/{self.denominator}\"\n",
        "\n",
        "# Example usage\n",
        "fraction = Fraction(3, 4)\n",
        "print(fraction)  # Output: 3/4"
      ],
      "metadata": {
        "id": "Bdom9b_CJNli"
      },
      "execution_count": null,
      "outputs": []
    },
    {
      "cell_type": "code",
      "source": [
        "# 10. Demonstrate operator overloading by creating a class Vector and overriding the add method to add two vectors.\n",
        "\n",
        "class Vector:\n",
        "    def __init__(self, x, y):\n",
        "        self.x = x\n",
        "        self.y = y\n",
        "\n",
        "    def __add__(self, other):\n",
        "        return Vector(self.x + other.x, self.y + other.y)\n",
        "\n",
        "    def __str__(self):\n",
        "        return f\"({self.x}, {self.y})\"\n",
        "\n",
        "# Example usage\n",
        "v1 = Vector(2, 3)\n",
        "v2 = Vector(4, 5)\n",
        "v3 = v1 + v2\n",
        "\n",
        "print(f\"v1 = {v1}\")  # Output: v1 = (2, 3)\n",
        "print(f\"v2 = {v2}\")  # Output: v2 = (4, 5)\n",
        "print(f\"v1 + v2 = {v3}\")  # Output: v1 + v2 = (6, 8)"
      ],
      "metadata": {
        "id": "nZ71khyAJcR5"
      },
      "execution_count": null,
      "outputs": []
    },
    {
      "cell_type": "code",
      "source": [
        "# 11. Create a class Person with attributes name and age. Add a method greet() that prints \"Hello, my name is {name} and I am {age} years old.\"\n",
        "\n",
        "class Person:\n",
        "    def __init__(self, name, age):\n",
        "        self.name = name\n",
        "        self.age = age\n",
        "\n",
        "    def greet(self):\n",
        "        print(f\"Hello, my name is {self.name} and I am {self.age} years old.\")\n",
        "\n",
        "# Example usage\n",
        "person = Person(\"Alice\", 30)\n",
        "person.greet()  # Output: Hello, my name is Alice and I am 30 years old."
      ],
      "metadata": {
        "id": "FJxfoBiOJquU"
      },
      "execution_count": null,
      "outputs": []
    },
    {
      "cell_type": "code",
      "source": [
        "# 12. Implement a class Student with attributes name and grades. Create a method average_grade() to compute the average of the grades.\n",
        "\n",
        "class Student:\n",
        "    def __init__(self, name, grades):\n",
        "        self.name = name\n",
        "        self.grades = grades\n",
        "\n",
        "    def average_grade(self):\n",
        "        if self.grades:\n",
        "            return sum(self.grades) / len(self.grades)\n",
        "        else:\n",
        "            return 0\n",
        "\n",
        "# Example usage\n",
        "student = Student(\"Alice\", [85, 90, 78, 92])\n",
        "average = student.average_grade()\n",
        "print(f\"{student.name}'s average grade: {average}\")  # Output: Alice's average grade: 86.25"
      ],
      "metadata": {
        "id": "hG_CkVNUJ3N-"
      },
      "execution_count": null,
      "outputs": []
    },
    {
      "cell_type": "code",
      "source": [
        "# 13. Create a class Rectangle with methods set_dimensions() to set the dimensions and area() to calculate the area.\n",
        "\n",
        "class Rectangle:\n",
        "    def __init__(self, length=0, width=0):\n",
        "        self.length = length\n",
        "        self.width = width\n",
        "\n",
        "    def set_dimensions(self, length, width):\n",
        "        self.length = length\n",
        "        self.width = width\n",
        "\n",
        "    def area(self):\n",
        "        return self.length * self.width\n",
        "\n",
        "# Example usage\n",
        "rectangle = Rectangle()\n",
        "rectangle.set_dimensions(5, 4)\n",
        "area = rectangle.area()\n",
        "print(f\"Area of the rectangle: {area}\")  # Output: Area of the rectangle: 20"
      ],
      "metadata": {
        "id": "ph6dMqvLKEKQ"
      },
      "execution_count": null,
      "outputs": []
    },
    {
      "cell_type": "code",
      "source": [
        "# 14. Create a class Employee with a method calculate_salary() that computes the salary based on hours worked and hourly rate. Create a derived class Manager that adds a bonus to the salary.\n",
        "\n",
        "class Employee:\n",
        "    def __init__(self, name, hours_worked, hourly_rate):\n",
        "        self.name = name\n",
        "        self.hours_worked = hours_worked\n",
        "        self.hourly_rate = hourly_rate\n",
        "\n",
        "    def calculate_salary(self):\n",
        "        return self.hours_worked * self.hourly_rate\n",
        "\n",
        "class Manager(Employee):\n",
        "    def __init__(self, name, hours_worked, hourly_rate, bonus):\n",
        "        super().__init__(name, hours_worked, hourly_rate)\n",
        "        self.bonus = bonus\n",
        "\n",
        "    def calculate_salary(self):\n",
        "        base_salary = super().calculate_salary()\n",
        "        return base_salary + self.bonus\n",
        "\n",
        "# Example usage\n",
        "employee = Employee(\"Alice\", 40, 20)\n",
        "manager = Manager(\"Bob\", 40, 30, 1000)\n",
        "\n",
        "print(f\"{employee.name}'s salary: {employee.calculate_salary()}\")\n",
        "print(f\"{manager.name}'s salary: {manager.calculate_salary()}\")"
      ],
      "metadata": {
        "id": "FP3iX-ZqKUCI"
      },
      "execution_count": null,
      "outputs": []
    },
    {
      "cell_type": "code",
      "source": [
        "# 15. Create a class Product with attributes name, price, and quantity. Implement a method total_price() that calculates the total price of the product.\n",
        "\n",
        "class Product:\n",
        "    def __init__(self, name, price, quantity):\n",
        "        self.name = name\n",
        "        self.price = price\n",
        "        self.quantity = quantity\n",
        "\n",
        "    def total_price(self):\n",
        "        return self.price * self.quantity\n",
        "\n",
        "# Example usage\n",
        "product = Product(\"Laptop\", 1200, 2)\n",
        "total = product.total_price()\n",
        "print(f\"Total price of {product.name}: ${total}\")  # Output: Total price of Laptop: $2400"
      ],
      "metadata": {
        "id": "N7LwkBfdKm1O"
      },
      "execution_count": null,
      "outputs": []
    },
    {
      "cell_type": "code",
      "source": [
        "# 16. Create a class Animal with an abstract method sound(). Create two derived classes Cow and Sheep that implement the sound() method.\n",
        "\n",
        "from abc import ABC, abstractmethod\n",
        "\n",
        "class Animal(ABC):\n",
        "    @abstractmethod\n",
        "    def sound(self):\n",
        "        pass\n",
        "\n",
        "class Cow(Animal):\n",
        "    def sound(self):\n",
        "        print(\"Moo!\")\n",
        "\n",
        "class Sheep(Animal):\n",
        "    def sound(self):\n",
        "        print(\"Baa!\")\n",
        "\n",
        "# Example usage\n",
        "cow = Cow()\n",
        "sheep = Sheep()\n",
        "\n",
        "cow.sound()  # Output: Moo!\n",
        "sheep.sound()  # Output: Baa!"
      ],
      "metadata": {
        "id": "0ejI7sCQK2RR"
      },
      "execution_count": null,
      "outputs": []
    },
    {
      "cell_type": "code",
      "source": [
        "# 17. Create a class Book with attributes title, author, and year_published. Add a method get_book_info() that returns a formatted string with the book's details.\n",
        "\n",
        "class Book:\n",
        "    def __init__(self, title, author, year_published):\n",
        "        self.title = title\n",
        "        self.author = author\n",
        "        self.year_published = year_published\n",
        "\n",
        "    def get_book_info(self):\n",
        "        return f\"Title: {self.title}, Author: {self.author}, Year Published: {self.year_published}\"\n",
        "\n",
        "# Example usage\n",
        "book = Book(\"The Hitchhiker's Guide to the Galaxy\", \"Douglas Adams\", 1979)\n",
        "book_info = book.get_book_info()\n",
        "print(book_info)  # Output: Title: The Hitchhiker's Guide to the Galaxy, Author: Douglas Adams, Year Published: 1979"
      ],
      "metadata": {
        "id": "oHjy3zIJLMJy"
      },
      "execution_count": null,
      "outputs": []
    },
    {
      "cell_type": "code",
      "source": [
        "# 18. Create a class House with attributes address and price. Create a derived class Mansion that adds an attribute number_of_rooms.\n",
        "\n",
        "class House:\n",
        "    def __init__(self, address, price):\n",
        "        self.address = address\n",
        "        self.price = price\n",
        "\n",
        "class Mansion(House):\n",
        "    def __init__(self, address, price, number_of_rooms):\n",
        "        super().__init__(address, price)\n",
        "        self.number_of_rooms = number_of_rooms\n",
        "\n",
        "# Example usage\n",
        "house = House(\"123 Main St\", 500000)\n",
        "mansion = Mansion(\"456 Park Ave\", 2000000, 10)\n",
        "\n",
        "print(f\"House address: {house.address}, price: ${house.price}\")\n",
        "print(f\"Mansion address: {mansion.address}, price: ${mansion.price}, rooms: {mansion.number_of_rooms}\")"
      ],
      "metadata": {
        "id": "mB3Jk6gILWGu"
      },
      "execution_count": null,
      "outputs": []
    },
    {
      "cell_type": "markdown",
      "source": [
        "**Theoritical questions answers**"
      ],
      "metadata": {
        "id": "PpvkUrCULtap"
      }
    },
    {
      "cell_type": "markdown",
      "source": [
        "1. Object-Oriented Programming (OOP) is a programming paradigm, or a way of thinking about and structuring your code, that is based on the concept of \"objects\"."
      ],
      "metadata": {
        "id": "T00cxTQFLzyh"
      }
    },
    {
      "cell_type": "markdown",
      "source": [
        "2. In OOP, a class is a blueprint or a template for creating objects. It defines the structure and behavior of objects, which are instances of the class.\n",
        "\n",
        "  Benefits of using classes:\n",
        "\n",
        "  Organization: Classes help to organize code by grouping related data and functions.\n",
        "  Reusability: You can create multiple objects from the same class, promoting code reuse.\n",
        "  Abstraction: Classes hide the internal complexity of objects, making them easier to use.\n",
        "  Encapsulation: Classes bundle data and methods together, protecting data integrity."
      ],
      "metadata": {
        "id": "KE_4aQAwMOfz"
      }
    },
    {
      "cell_type": "markdown",
      "source": [
        "3. In OOP, an object is an instance of a class. It's a concrete realization of the blueprint defined by the class. Objects have attributes (data) and methods (functions) that are defined by their class.\n",
        "\n",
        "  Think of a class as a blueprint for a house, and an object as an actual house built from that blueprint. The blueprint defines the structure and features of the house, while each house built from the blueprint is a unique object with its own specific details."
      ],
      "metadata": {
        "id": "MnY5GhVeMsSB"
      }
    },
    {
      "cell_type": "markdown",
      "source": [
        "4. Abstraction hides the complexity but Encapsulation bundls up the data and methods.\n",
        "\n",
        "  Abstraction simplyfy interaction but Encapsulation protects the data integrity.\n",
        "\n",
        "   By defining abstract classes and interfaces that provide a simplified representation of a concept or object. In Encapsulation By using access modifiers (like public, private, protected) to restrict access to data and methods."
      ],
      "metadata": {
        "id": "ZklubQuPM_gx"
      }
    },
    {
      "cell_type": "markdown",
      "source": [
        "5. \"Dunder methods\" is a nickname for double underscore methods in Python. They are also known as magic methods or special methods.\n",
        "\n",
        "  These methods have double underscores at the beginning and end of their names, like __init__, __str__, and __add__.\n",
        "   \n",
        "  Dunder methods are special methods in Python that provide a way to customize the behavior of objects and make them more powerful and versatile. They are a fundamental part of OOP in Python."
      ],
      "metadata": {
        "id": "u17j3bWeN7Xa"
      }
    },
    {
      "cell_type": "markdown",
      "source": [
        "6. Inheritance is a fundamental principle in OOP that allows you to create new classes (called child classes or derived classes) based on existing classes (called parent classes or base classes).\n",
        "\n",
        "  **Key idea:**\n",
        "\n",
        "  The child class inherits the attributes and methods of the parent class, and can also add its own unique features. This promotes code reuse and reduces redundancy.\n",
        "\n",
        "  **Benefits:**\n",
        "\n",
        "  Code Reusability: You can reuse the code from the parent class in the child class, avoiding duplication.\n",
        "\n",
        "  Extensibility: You can easily extend the functionality of existing classes by creating child classes with additional features.\n",
        "\n",
        "  Maintainability: Changes to the parent class automatically propagate to the child classes, making it easier to maintain code.\n",
        "\n",
        "  Organization: Inheritance helps to organize code by creating a hierarchy of classes."
      ],
      "metadata": {
        "id": "hp5yQPWFOSAB"
      }
    },
    {
      "cell_type": "markdown",
      "source": [
        "7. Polymorphism, meaning \"many forms,\" is a core concept in OOP that allows objects of different classes to respond to the same method call in their own way. This provides flexibility and code reusability.\n",
        "\n",
        "  **Key Idea:**\n",
        "\n",
        "  Different objects can respond to the same method call, but the specific implementation of the method might vary depending on the object's class.\n",
        "\n",
        "  **Analogy:**\n",
        "\n",
        "  Think of a musical instrument. Different instruments can respond to the action \"play,\" but the sound they produce will vary depending on the instrument (e.g., a guitar produces a strumming sound, a piano produces keystrokes)."
      ],
      "metadata": {
        "id": "Rn_SEElXO3fE"
      }
    },
    {
      "cell_type": "markdown",
      "source": [
        "8. Encapsulation, as you know, is the bundling of data (attributes) and methods (functions) that operate on that data within a single unit (class or object). It's a key principle of Object-Oriented Programming (OOP) that helps protect data integrity and promotes code organization.\n",
        "\n",
        "  In Python, encapsulation is achieved primarily through the use of access modifiers and name mangling.\n",
        "\n",
        "  Access Modifiers:\n",
        "\n",
        "  While Python doesn't have strict access modifiers like public, private, and protected keywords like some other languages, it uses conventions to indicate the intended access level of attributes and methods:\n",
        "\n",
        "  Public: By default, attributes and methods are public, meaning they can be accessed and modified from anywhere.\n",
        "\n",
        "  Private: Attributes and methods prefixed with a double underscore (__) are considered private. They are intended for internal use within the class and are not directly accessible from outside. However, this is more of a convention than a strict rule.\n",
        "\n",
        "  Protected: Attributes and methods prefixed with a single underscore (_) are considered protected. They are intended for internal use within the class and its subclasses, but can still be accessed from outside. This is also a convention.\n",
        "\n",
        "  Name Mangling:\n",
        "\n",
        "  To further enforce encapsulation for private attributes, Python uses a technique called name mangling. When you define an attribute with a double underscore prefix (__), Python internally renames it to `_ClassName__AttributeName`. This makes it harder to access the attribute directly from outside the class, but it's still possible if you know the mangled name.\n",
        "\n"
      ],
      "metadata": {
        "id": "L3RBFA1lQOcg"
      }
    },
    {
      "cell_type": "markdown",
      "source": [
        "9. In Python, a constructor is a special method called `__init__` that is automatically executed when an object of a class is created. It's used to initialize the attributes of the object with default or user-defined values.\n",
        "\n",
        "  **Purpose:**\n",
        "\n",
        "  The primary purpose of a constructor is to set up the initial state of an object. It allows you to provide values for the object's attributes and perform any necessary setup tasks before the object is used."
      ],
      "metadata": {
        "id": "pq96wKfoRedK"
      }
    },
    {
      "cell_type": "markdown",
      "source": [
        "10. **Class Methods**\n",
        "\n",
        "  A class method is a method that is bound to the class and not the object of the class.\n",
        "  They have access to the state of the class as it takes a cls parameter that points to the class—and not the object instance—when the method is called. It can modify a class state that would apply across all the instances of the class. They are marked with the `@classmethod` decorator.\n",
        "\n",
        "  **Static Methods**\n",
        "\n",
        "  A static method is similar to a class method, in that it is bound to the class rather than the object. However, a static method can't access or modify the class state. They do not take a cls or self parameter. Therefore, they are primarily a way to namespace your methods. They are marked with the `@staticmethod` decorator."
      ],
      "metadata": {
        "id": "SjYJ6PzKSCAN"
      }
    },
    {
      "cell_type": "markdown",
      "source": [
        "11. **Method overloading** is the ability to define multiple methods in a class with the same name but with different parameters. This allows you to perform the same operation on different data types or with a varying number of arguments."
      ],
      "metadata": {
        "id": "ZGzBX8tNIDOU"
      }
    },
    {
      "cell_type": "markdown",
      "source": [
        "12. Method overriding is a language feature that allows a subclass or child class to provide a specific implementation of a method that is already provided by one of its superclasses or parent classes.\n",
        "\n",
        "  When a method in a subclass has the same name, parameters (signature), and return type as a method in its superclass, then the method in the subclass is said to override the method in the superclass."
      ],
      "metadata": {
        "id": "YyTmm_pXIsWR"
      }
    },
    {
      "cell_type": "markdown",
      "source": [
        "13. In Python, the `@property` decorator is a built-in decorator that is used to define properties in a class. Properties provide a way to manage attributes with getter, setter, and deleter methods, making attribute access more controlled and flexible.\n",
        "\n",
        "  Properties allow you to access methods as if they were attributes, without using parentheses. This enhances code readability and maintainability."
      ],
      "metadata": {
        "id": "qAMaKbFhI9rW"
      }
    },
    {
      "cell_type": "markdown",
      "source": [
        "14. Polymorphism, meaning \"many forms,\" is a core concept in OOP that allows objects of different classes to respond to the same method call in their own way. This provides flexibility and code reusability.\n",
        "\n",
        " ** Key Benefits of Polymorphism:**\n",
        "\n",
        " Flexibility and Extensibility:\n",
        "\n",
        "  Polymorphism allows you to write code that can work with objects of different classes without needing to know their specific types.\n",
        "  This makes your code more flexible and adaptable to future changes or additions.\n",
        "  We can easily add new classes to your system without modifying existing code, as long as they adhere to the common interface.\n",
        "\n",
        "  Code Reusability:\n",
        "\n",
        "  Polymorphism promotes code reuse by allowing us to write generic functions or methods that can operate on a variety of objects.\n",
        "  This reduces code duplication and makes your code more maintainable.\n",
        "\n",
        "  Loose Coupling:\n",
        "\n",
        "  Polymorphism helps to reduce dependencies between different parts of your code.\n",
        "  Objects can interact with each other through a common interface, without needing to know the specific implementation details of each other.\n",
        "  This makes our code more modular and easier to modify or extend. Improved Maintainability:\n",
        "\n",
        "  Polymorphism simplifies code maintenance by allowing you to make changes to individual classes without affecting other parts of your system.\n",
        "  As long as the common interface is preserved, changes to one class will not break the functionality of other classes that interact with it."
      ],
      "metadata": {
        "id": "JYhnilwwJQ3o"
      }
    },
    {
      "cell_type": "markdown",
      "source": [
        "15. In Python, an abstract class is a class that cannot be instantiated on its own. It serves as a blueprint for other classes (called concrete classes) and defines a common interface for them. Abstract classes typically contain one or more abstract methods, which are declared but not implemented in the abstract class itself."
      ],
      "metadata": {
        "id": "3cbHRtVrJ_uv"
      }
    },
    {
      "cell_type": "markdown",
      "source": [
        "16. Here are some key advantages of OOP:\n",
        "\n",
        "  **Modularity and Reusability**:\n",
        "\n",
        "  OOP promotes modularity by encapsulating data and methods within objects. This makes code more organized and easier to understand.\n",
        "  Objects can be reused in different parts of a program or even in other programs, reducing code duplication and development time.\n",
        "  Data Encapsulation and Security:\n",
        "\n",
        "  OOP provides data encapsulation, meaning that data is hidden within objects and can only be accessed through defined methods.\n",
        "  This protects data integrity and prevents accidental modification from outside the object.\n",
        "\n",
        "  **Flexibility and Maintainability**:\n",
        "\n",
        "  OOP allows for easy modification and extension of code without affecting other parts of the program.\n",
        "  Changes to an object's implementation are localized and don't ripple through the entire codebase.\n",
        "\n",
        "  **Abstraction**:\n",
        "\n",
        "  OOP provides abstraction by hiding complex implementation details behind simple interfaces.\n",
        "  This makes code easier to use and understand, as users don't need to know how objects work internally.\n",
        "\n",
        "  **Polymorphism**:\n",
        "\n",
        "  OOP supports polymorphism, which allows objects of different classes to respond to the same method call in their own way.\n",
        "  This promotes flexibility and code reusability.\n",
        "\n",
        "  **Problem-solving**:\n",
        "\n",
        "  OOP encourages a problem-solving approach that aligns well with real-world scenarios.\n",
        "  Objects can represent real-world entities, making code more intuitive and easier to design."
      ],
      "metadata": {
        "id": "a4sQed43KKfZ"
      }
    },
    {
      "cell_type": "markdown",
      "source": [
        "17. Class variable declares within the class , outside methods and Instance variable declares inside `__init__` method.\n",
        "\n",
        "  Class variable shared by all instances and Instance variable is unique to each instance.\n",
        "\n",
        "  Class variable accesses by Class name and Instance variable accessed by only instance."
      ],
      "metadata": {
        "id": "7lD6GxVvKt_Z"
      }
    },
    {
      "cell_type": "markdown",
      "source": [
        "18. Multiple inheritance is a feature in object-oriented programming where a class can inherit from multiple parent classes. This allows a class to inherit attributes and methods from multiple sources, combining their functionalities."
      ],
      "metadata": {
        "id": "Ts9W4rKRLppg"
      }
    },
    {
      "cell_type": "markdown",
      "source": [
        "19. Both `__str__` and `__repr__` are special methods (also known as dunder methods) in Python that are used to represent an object as a string. However, they serve slightly different purposes and are intended for different audiences.\n",
        "\n",
        "  `__str__`\n",
        "\n",
        "  Purpose: To provide a user-friendly, informal string representation of an object. It's intended for end-users to understand what the object represents.\n",
        "\n",
        "  `__repr__`\n",
        "\n",
        "  Purpose: To provide a more technical, unambiguous string representation of an object. It's intended for developers and debugging purposes."
      ],
      "metadata": {
        "id": "-KPtWZIeL24o"
      }
    },
    {
      "cell_type": "markdown",
      "source": [
        "20. The `super()` function is used to call a method from a parent class in a child class. It is especially useful in the context of inheritance and method overriding.\n",
        "\n",
        "  Key Significance:\n",
        "\n",
        "  Method Overriding and Extension: When you override a method in a child class, you might still want to call the original method from the parent class. `super()` allows you to do this without explicitly naming the parent class. This is useful for extending the functionality of the parent class method while adding specific behavior in the child class.\n",
        "\n",
        "  Multiple Inheritance: In cases of multiple inheritance, `super()` helps in navigating the method resolution order (MRO) and ensuring that methods from all parent classes are called in the correct sequence.\n",
        "\n",
        "  Maintaining Code Flexibility: Using `super()` makes your code more flexible and maintainable. If you change the name of the parent class in the future, you don't need to update all the child class methods that call the parent class methods."
      ],
      "metadata": {
        "id": "V0kJSg9LMU-z"
      }
    },
    {
      "cell_type": "markdown",
      "source": [
        "21. In Python, the `__del__` method is a special method (also known as a destructor) that is called when an object is about to be destroyed or garbage collected. It is the counterpart to the `__init__` constructor.\n",
        "\n",
        "  **Significance**:\n",
        "\n",
        "  **Resource Cleanup**: The primary significance of the `__del__` method is to perform any necessary cleanup or resource release before an object is destroyed. This might involve closing files, releasing network connections, or freeing up memory allocated to the object.\n",
        "\n",
        "  **Finalization**: It provides a way to execute any finalization logic associated with the object's lifecycle."
      ],
      "metadata": {
        "id": "F1WHNNLSMzAU"
      }
    },
    {
      "cell_type": "markdown",
      "source": [
        "22. Both `@staticmethod` and `@classmethod` are decorators used to define methods that are bound to a class rather than an instance of the class. However, they differ in how they interact with the class itself.\n",
        "\n",
        "  **@staticmethod**\n",
        "\n",
        "  Purpose: Defines a method that belongs to the class but doesn't have access to the class or instance state. It behaves like a regular function but is namespaced within the class.\n",
        "  Parameters: Doesn't take any implicit parameters like self or cls.\n",
        "  Use Cases:\n",
        "  Utility functions related to the class but don't need access to its data.\n",
        "  Grouping logically related functions within a class.\n",
        "\n",
        "  **@classmethod**\n",
        "\n",
        "  Purpose: Defines a method that receives the class object as the first implicit parameter (cls). It can access and modify class-level attributes.  \n",
        "  Parameters: Takes the class object (cls) as the first parameter.\n",
        "  Use Cases:\n",
        "  Factory methods to create instances of the class with specific configurations.\n",
        "  Methods that operate on class-level data."
      ],
      "metadata": {
        "id": "1THh_04bNJoB"
      }
    },
    {
      "cell_type": "markdown",
      "source": [
        "23. Polymorphism, meaning \"many forms,\" is a fundamental concept in object-oriented programming that allows objects of different classes to respond to the same method call in their own specific way. In Python, inheritance plays a crucial role in enabling polymorphism.\n",
        "\n",
        "  **Mechanism**\n",
        "\n",
        "  **Inheritance**: You have a base class (parent class) and one or more derived classes (child classes) that inherit from the base class.\n",
        "\n",
        "  **Method Overriding**: The derived classes can override methods defined in the base class with their own implementations.\n",
        "\n",
        "  **Dynamic Binding**: When you call a method on an object, Python determines the object's type at runtime and invokes the appropriate method based on that type. This is known as dynamic binding or late binding."
      ],
      "metadata": {
        "id": "E89tzuilNx38"
      }
    },
    {
      "cell_type": "markdown",
      "source": [
        "24. Method chaining is a programming technique where you call multiple methods on an object in a single line of code, one after the other. It's achieved by having each method return the object itself (`self`) so that the next method can be called directly on the returned object.\n",
        "\n",
        "  How it Works\n",
        "\n",
        "  Method Return Value: Each method in the chain should return self.\n",
        "  Chaining Calls: Subsequent methods are called directly on the returned object, forming a chain of method calls."
      ],
      "metadata": {
        "id": "RimX9qesOT2_"
      }
    },
    {
      "cell_type": "markdown",
      "source": [
        "25. In Python, the `__call__` method is a special method that allows you to make an object callable like a function. When you define the `__call__` method in a class, you can then use instances of that class as if they were functions.\n",
        "\n",
        "  Purpose\n",
        "\n",
        "  Callable Objects: The primary purpose of the `__call__` method is to make objects callable. This means you can use the object's name followed by parentheses to invoke the  `__call__` method, just like you would call a function.\n",
        "  Function-like Behavior: It allows you to define objects that have function-like behavior, where they can accept arguments, perform operations, and return values."
      ],
      "metadata": {
        "id": "3kFHG6ECOk5a"
      }
    }
  ]
}